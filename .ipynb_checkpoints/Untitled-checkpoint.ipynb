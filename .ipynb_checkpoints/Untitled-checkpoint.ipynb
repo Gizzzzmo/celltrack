{
 "cells": [
  {
   "cell_type": "code",
   "execution_count": 1,
   "metadata": {},
   "outputs": [],
   "source": [
    "import torch\n",
    "import numpy as np\n",
    "import gudhi as gd\n",
    "import matplotlib.pyplot as plt"
   ]
  },
  {
   "cell_type": "code",
   "execution_count": 2,
   "metadata": {},
   "outputs": [],
   "source": [
    "skeleton = gd.RipsComplex(points=[[1], [2], [7], [8], [9], [13]], max_edge_length=20)"
   ]
  },
  {
   "cell_type": "code",
   "execution_count": 3,
   "metadata": {},
   "outputs": [],
   "source": [
    "simplex_tree = skeleton.create_simplex_tree(max_dimension=1)"
   ]
  },
  {
   "cell_type": "code",
   "execution_count": 4,
   "metadata": {},
   "outputs": [
    {
     "data": {
      "text/plain": [
       "6"
      ]
     },
     "execution_count": 4,
     "metadata": {},
     "output_type": "execute_result"
    }
   ],
   "source": [
    "simplex_tree.num_vertices()"
   ]
  },
  {
   "cell_type": "code",
   "execution_count": 5,
   "metadata": {},
   "outputs": [],
   "source": [
    "barcode = simplex_tree.persistence()"
   ]
  },
  {
   "cell_type": "code",
   "execution_count": 6,
   "metadata": {},
   "outputs": [
    {
     "data": {
      "text/plain": [
       "[(0, (0.0, inf)),\n",
       " (0, (0.0, 5.0)),\n",
       " (0, (0.0, 4.0)),\n",
       " (0, (0.0, 1.0)),\n",
       " (0, (0.0, 1.0)),\n",
       " (0, (0.0, 1.0))]"
      ]
     },
     "execution_count": 6,
     "metadata": {},
     "output_type": "execute_result"
    }
   ],
   "source": [
    "barcode"
   ]
  },
  {
   "cell_type": "code",
   "execution_count": 7,
   "metadata": {},
   "outputs": [
    {
     "data": {
      "text/plain": [
       "<matplotlib.axes._subplots.AxesSubplot at 0x7fe0b0df24d0>"
      ]
     },
     "execution_count": 7,
     "metadata": {},
     "output_type": "execute_result"
    },
    {
     "data": {
      "image/png": "[encoded data removed]",
      "text/plain": [
       "<Figure size 432x288 with 1 Axes>"
      ]
     },
     "metadata": {
      "needs_background": "light"
     },
     "output_type": "display_data"
    }
   ],
   "source": [
    "gd.plot_persistence_diagram(barcode)"
   ]
  },
  {
   "cell_type": "code",
   "execution_count": 8,
   "metadata": {},
   "outputs": [],
   "source": [
    "points = np.array([[0.0, 0], [1, 0], [2, 0], [2, 1], [2, 2], [2, 3], [2, 4], [1, 4], [0, 4], [-1, 4], [-2, 4], [-2, 3], [-2, 2], [-2, 1], [-2, 0], [-1, 0]])"
   ]
  },
  {
   "cell_type": "code",
   "execution_count": 9,
   "metadata": {},
   "outputs": [],
   "source": [
    "square_complex = gd.RipsComplex(points=points, max_edge_length=20)"
   ]
  },
  {
   "cell_type": "code",
   "execution_count": 10,
   "metadata": {},
   "outputs": [],
   "source": [
    "square_simplex_tree = square_complex.create_simplex_tree(max_dimension=2)"
   ]
  },
  {
   "cell_type": "code",
   "execution_count": 11,
   "metadata": {},
   "outputs": [
    {
     "data": {
      "text/plain": [
       "696"
      ]
     },
     "execution_count": 11,
     "metadata": {},
     "output_type": "execute_result"
    }
   ],
   "source": [
    "square_simplex_tree.num_simplices()"
   ]
  },
  {
   "cell_type": "code",
   "execution_count": 12,
   "metadata": {},
   "outputs": [],
   "source": [
    "persistence = square_simplex_tree.persistence()"
   ]
  },
  {
   "cell_type": "code",
   "execution_count": 13,
   "metadata": {},
   "outputs": [
    {
     "data": {
      "text/plain": [
       "<matplotlib.axes._subplots.AxesSubplot at 0x7fe0b0612110>"
      ]
     },
     "execution_count": 13,
     "metadata": {},
     "output_type": "execute_result"
    },
    {
     "data": {
      "image/png": "[encoded data removed]",
      "text/plain": [
       "<Figure size 432x288 with 1 Axes>"
      ]
     },
     "metadata": {
      "needs_background": "light"
     },
     "output_type": "display_data"
    }
   ],
   "source": [
    "gd.plot_persistence_diagram(persistence)"
   ]
  },
  {
   "cell_type": "code",
   "execution_count": 14,
   "metadata": {},
   "outputs": [],
   "source": [
    "device = torch.device(\"cuda:0\" if torch.cuda.is_available() else \"cpu\")"
   ]
  },
  {
   "cell_type": "code",
   "execution_count": 612,
   "metadata": {},
   "outputs": [],
   "source": [
    "granularity = 8\n",
    "cell_indices = torch.tensor([[0, i+2, i+1] for i in range(granularity-2)], dtype = torch.int32,\n",
    "                device = device)\n",
    "cell = torch.cuda.FloatTensor([[5, 5], [5, 8], [8, 8], [11, 8], [11, 11], [8, 11], [8, 8], [8, 5]])\n",
    "cell.requires_grad = True"
   ]
  },
  {
   "cell_type": "code",
   "execution_count": 613,
   "metadata": {},
   "outputs": [],
   "source": [
    "def render_cell(cell, canvas=None, intensity=256):\n",
    "    if canvas is None:\n",
    "        canvas = torch.zeros((80, 80))\n",
    "    for vertex in cell:\n",
    "        canvas[int(vertex[0]*4), int(vertex[1]*4)] = intensity\n",
    "    return canvas"
   ]
  },
  {
   "cell_type": "code",
   "execution_count": 614,
   "metadata": {},
   "outputs": [],
   "source": [
    "img = render_cell(cell)"
   ]
  },
  {
   "cell_type": "code",
   "execution_count": 615,
   "metadata": {},
   "outputs": [
    {
     "data": {
      "text/plain": [
       "<matplotlib.image.AxesImage at 0x7fe0a21abd90>"
      ]
     },
     "execution_count": 615,
     "metadata": {},
     "output_type": "execute_result"
    },
    {
     "data": {
      "image/png": "[encoded data removed]",
      "text/plain": [
       "<Figure size 432x288 with 1 Axes>"
      ]
     },
     "metadata": {
      "needs_background": "light"
     },
     "output_type": "display_data"
    }
   ],
   "source": [
    "plt.imshow(img)"
   ]
  },
  {
   "cell_type": "code",
   "execution_count": 543,
   "metadata": {},
   "outputs": [],
   "source": [
    "def regularizer(c):\n",
    "        area = torch.cuda.FloatTensor([0], device=device)\n",
    "        circumference = torch.cuda.FloatTensor([0], device=device)\n",
    "        for k in range(granularity):\n",
    "            area += c[k, 0] * c[(k+1)%granularity, 1] - c[k, 1] * c[(k+1)%granularity, 0]\n",
    "            circumference += (c[k]-c[(k+1)%granularity]).pow(2).sum().sqrt()\n",
    "        print('area:', area)\n",
    "        return area/(circumference**2)"
   ]
  },
  {
   "cell_type": "code",
   "execution_count": 616,
   "metadata": {},
   "outputs": [],
   "source": [
    "optimizer = torch.optim.Adam([cell], lr=5e-3)\n",
    "\n",
    "def optimize(iterations=10):\n",
    "    for iteration in range(iterations):\n",
    "        print('iteration', iteration)\n",
    "        optimizer.zero_grad()\n",
    "        reg = regularizer(cell)\n",
    "        print(reg)\n",
    "        (-reg).backward(retain_graph=True)\n",
    "        optimizer.step()\n",
    "    \n",
    "    plt.imshow(render_cell(cell))"
   ]
  },
  {
   "cell_type": "code",
   "execution_count": 652,
   "metadata": {},
   "outputs": [
    {
     "name": "stdout",
     "output_type": "stream",
     "text": [
      "iteration 0\n",
      "area: tensor([35.3799], device='cuda:0', grad_fn=<AddBackward0>)\n",
      "tensor([0.0700], device='cuda:0', grad_fn=<DivBackward0>)\n",
      "iteration 1\n",
      "area: tensor([35.5812], device='cuda:0', grad_fn=<AddBackward0>)\n",
      "tensor([0.0705], device='cuda:0', grad_fn=<DivBackward0>)\n",
      "iteration 2\n",
      "area: tensor([35.7818], device='cuda:0', grad_fn=<AddBackward0>)\n",
      "tensor([0.0711], device='cuda:0', grad_fn=<DivBackward0>)\n",
      "iteration 3\n",
      "area: tensor([35.9819], device='cuda:0', grad_fn=<AddBackward0>)\n",
      "tensor([0.0717], device='cuda:0', grad_fn=<DivBackward0>)\n",
      "iteration 4\n",
      "area: tensor([36.1814], device='cuda:0', grad_fn=<AddBackward0>)\n",
      "tensor([0.0722], device='cuda:0', grad_fn=<DivBackward0>)\n",
      "iteration 5\n",
      "area: tensor([36.3803], device='cuda:0', grad_fn=<AddBackward0>)\n",
      "tensor([0.0728], device='cuda:0', grad_fn=<DivBackward0>)\n",
      "iteration 6\n",
      "area: tensor([36.5785], device='cuda:0', grad_fn=<AddBackward0>)\n",
      "tensor([0.0734], device='cuda:0', grad_fn=<DivBackward0>)\n",
      "iteration 7\n",
      "area: tensor([36.7762], device='cuda:0', grad_fn=<AddBackward0>)\n",
      "tensor([0.0739], device='cuda:0', grad_fn=<DivBackward0>)\n",
      "iteration 8\n",
      "area: tensor([36.9732], device='cuda:0', grad_fn=<AddBackward0>)\n",
      "tensor([0.0745], device='cuda:0', grad_fn=<DivBackward0>)\n",
      "iteration 9\n",
      "area: tensor([37.1696], device='cuda:0', grad_fn=<AddBackward0>)\n",
      "tensor([0.0751], device='cuda:0', grad_fn=<DivBackward0>)\n",
      "iteration 10\n",
      "area: tensor([37.3654], device='cuda:0', grad_fn=<AddBackward0>)\n",
      "tensor([0.0757], device='cuda:0', grad_fn=<DivBackward0>)\n",
      "iteration 11\n",
      "area: tensor([37.5605], device='cuda:0', grad_fn=<AddBackward0>)\n",
      "tensor([0.0762], device='cuda:0', grad_fn=<DivBackward0>)\n",
      "iteration 12\n",
      "area: tensor([37.7550], device='cuda:0', grad_fn=<AddBackward0>)\n",
      "tensor([0.0768], device='cuda:0', grad_fn=<DivBackward0>)\n",
      "iteration 13\n",
      "area: tensor([37.9488], device='cuda:0', grad_fn=<AddBackward0>)\n",
      "tensor([0.0774], device='cuda:0', grad_fn=<DivBackward0>)\n",
      "iteration 14\n",
      "area: tensor([38.1419], device='cuda:0', grad_fn=<AddBackward0>)\n",
      "tensor([0.0780], device='cuda:0', grad_fn=<DivBackward0>)\n",
      "iteration 15\n",
      "area: tensor([38.3345], device='cuda:0', grad_fn=<AddBackward0>)\n",
      "tensor([0.0786], device='cuda:0', grad_fn=<DivBackward0>)\n",
      "iteration 16\n",
      "area: tensor([38.5263], device='cuda:0', grad_fn=<AddBackward0>)\n",
      "tensor([0.0792], device='cuda:0', grad_fn=<DivBackward0>)\n",
      "iteration 17\n",
      "area: tensor([38.7174], device='cuda:0', grad_fn=<AddBackward0>)\n",
      "tensor([0.0798], device='cuda:0', grad_fn=<DivBackward0>)\n",
      "iteration 18\n",
      "area: tensor([38.9079], device='cuda:0', grad_fn=<AddBackward0>)\n",
      "tensor([0.0804], device='cuda:0', grad_fn=<DivBackward0>)\n",
      "iteration 19\n",
      "area: tensor([39.0977], device='cuda:0', grad_fn=<AddBackward0>)\n",
      "tensor([0.0810], device='cuda:0', grad_fn=<DivBackward0>)\n",
      "iteration 20\n",
      "area: tensor([39.2867], device='cuda:0', grad_fn=<AddBackward0>)\n",
      "tensor([0.0816], device='cuda:0', grad_fn=<DivBackward0>)\n",
      "iteration 21\n",
      "area: tensor([39.4751], device='cuda:0', grad_fn=<AddBackward0>)\n",
      "tensor([0.0823], device='cuda:0', grad_fn=<DivBackward0>)\n",
      "iteration 22\n",
      "area: tensor([39.6627], device='cuda:0', grad_fn=<AddBackward0>)\n",
      "tensor([0.0829], device='cuda:0', grad_fn=<DivBackward0>)\n",
      "iteration 23\n",
      "area: tensor([39.8497], device='cuda:0', grad_fn=<AddBackward0>)\n",
      "tensor([0.0835], device='cuda:0', grad_fn=<DivBackward0>)\n",
      "iteration 24\n",
      "area: tensor([40.0359], device='cuda:0', grad_fn=<AddBackward0>)\n",
      "tensor([0.0841], device='cuda:0', grad_fn=<DivBackward0>)\n",
      "iteration 25\n",
      "area: tensor([40.2213], device='cuda:0', grad_fn=<AddBackward0>)\n",
      "tensor([0.0847], device='cuda:0', grad_fn=<DivBackward0>)\n",
      "iteration 26\n",
      "area: tensor([40.4060], device='cuda:0', grad_fn=<AddBackward0>)\n",
      "tensor([0.0854], device='cuda:0', grad_fn=<DivBackward0>)\n",
      "iteration 27\n",
      "area: tensor([40.5900], device='cuda:0', grad_fn=<AddBackward0>)\n",
      "tensor([0.0860], device='cuda:0', grad_fn=<DivBackward0>)\n",
      "iteration 28\n",
      "area: tensor([40.7732], device='cuda:0', grad_fn=<AddBackward0>)\n",
      "tensor([0.0867], device='cuda:0', grad_fn=<DivBackward0>)\n",
      "iteration 29\n",
      "area: tensor([40.9557], device='cuda:0', grad_fn=<AddBackward0>)\n",
      "tensor([0.0873], device='cuda:0', grad_fn=<DivBackward0>)\n",
      "iteration 30\n",
      "area: tensor([41.1374], device='cuda:0', grad_fn=<AddBackward0>)\n",
      "tensor([0.0880], device='cuda:0', grad_fn=<DivBackward0>)\n",
      "iteration 31\n",
      "area: tensor([41.3183], device='cuda:0', grad_fn=<AddBackward0>)\n",
      "tensor([0.0886], device='cuda:0', grad_fn=<DivBackward0>)\n",
      "iteration 32\n",
      "area: tensor([41.4984], device='cuda:0', grad_fn=<AddBackward0>)\n",
      "tensor([0.0893], device='cuda:0', grad_fn=<DivBackward0>)\n",
      "iteration 33\n",
      "area: tensor([41.6777], device='cuda:0', grad_fn=<AddBackward0>)\n",
      "tensor([0.0899], device='cuda:0', grad_fn=<DivBackward0>)\n",
      "iteration 34\n",
      "area: tensor([41.8563], device='cuda:0', grad_fn=<AddBackward0>)\n",
      "tensor([0.0906], device='cuda:0', grad_fn=<DivBackward0>)\n",
      "iteration 35\n",
      "area: tensor([42.0340], device='cuda:0', grad_fn=<AddBackward0>)\n",
      "tensor([0.0913], device='cuda:0', grad_fn=<DivBackward0>)\n",
      "iteration 36\n",
      "area: tensor([42.2109], device='cuda:0', grad_fn=<AddBackward0>)\n",
      "tensor([0.0919], device='cuda:0', grad_fn=<DivBackward0>)\n",
      "iteration 37\n",
      "area: tensor([42.3869], device='cuda:0', grad_fn=<AddBackward0>)\n",
      "tensor([0.0926], device='cuda:0', grad_fn=<DivBackward0>)\n",
      "iteration 38\n",
      "area: tensor([42.5621], device='cuda:0', grad_fn=<AddBackward0>)\n",
      "tensor([0.0933], device='cuda:0', grad_fn=<DivBackward0>)\n",
      "iteration 39\n",
      "area: tensor([42.7365], device='cuda:0', grad_fn=<AddBackward0>)\n",
      "tensor([0.0940], device='cuda:0', grad_fn=<DivBackward0>)\n",
      "iteration 40\n",
      "area: tensor([42.9100], device='cuda:0', grad_fn=<AddBackward0>)\n",
      "tensor([0.0947], device='cuda:0', grad_fn=<DivBackward0>)\n",
      "iteration 41\n",
      "area: tensor([43.0827], device='cuda:0', grad_fn=<AddBackward0>)\n",
      "tensor([0.0953], device='cuda:0', grad_fn=<DivBackward0>)\n",
      "iteration 42\n",
      "area: tensor([43.2545], device='cuda:0', grad_fn=<AddBackward0>)\n",
      "tensor([0.0960], device='cuda:0', grad_fn=<DivBackward0>)\n",
      "iteration 43\n",
      "area: tensor([43.4254], device='cuda:0', grad_fn=<AddBackward0>)\n",
      "tensor([0.0967], device='cuda:0', grad_fn=<DivBackward0>)\n",
      "iteration 44\n",
      "area: tensor([43.5954], device='cuda:0', grad_fn=<AddBackward0>)\n",
      "tensor([0.0975], device='cuda:0', grad_fn=<DivBackward0>)\n",
      "iteration 45\n",
      "area: tensor([43.7645], device='cuda:0', grad_fn=<AddBackward0>)\n",
      "tensor([0.0982], device='cuda:0', grad_fn=<DivBackward0>)\n",
      "iteration 46\n",
      "area: tensor([43.9327], device='cuda:0', grad_fn=<AddBackward0>)\n",
      "tensor([0.0989], device='cuda:0', grad_fn=<DivBackward0>)\n",
      "iteration 47\n",
      "area: tensor([44.1000], device='cuda:0', grad_fn=<AddBackward0>)\n",
      "tensor([0.0996], device='cuda:0', grad_fn=<DivBackward0>)\n",
      "iteration 48\n",
      "area: tensor([44.2663], device='cuda:0', grad_fn=<AddBackward0>)\n",
      "tensor([0.1003], device='cuda:0', grad_fn=<DivBackward0>)\n",
      "iteration 49\n",
      "area: tensor([44.4317], device='cuda:0', grad_fn=<AddBackward0>)\n",
      "tensor([0.1010], device='cuda:0', grad_fn=<DivBackward0>)\n",
      "iteration 50\n",
      "area: tensor([44.5962], device='cuda:0', grad_fn=<AddBackward0>)\n",
      "tensor([0.1018], device='cuda:0', grad_fn=<DivBackward0>)\n",
      "iteration 51\n",
      "area: tensor([44.7597], device='cuda:0', grad_fn=<AddBackward0>)\n",
      "tensor([0.1025], device='cuda:0', grad_fn=<DivBackward0>)\n",
      "iteration 52\n",
      "area: tensor([44.9222], device='cuda:0', grad_fn=<AddBackward0>)\n",
      "tensor([0.1033], device='cuda:0', grad_fn=<DivBackward0>)\n",
      "iteration 53\n",
      "area: tensor([45.0837], device='cuda:0', grad_fn=<AddBackward0>)\n",
      "tensor([0.1040], device='cuda:0', grad_fn=<DivBackward0>)\n",
      "iteration 54\n",
      "area: tensor([45.2443], device='cuda:0', grad_fn=<AddBackward0>)\n",
      "tensor([0.1048], device='cuda:0', grad_fn=<DivBackward0>)\n",
      "iteration 55\n",
      "area: tensor([45.4038], device='cuda:0', grad_fn=<AddBackward0>)\n",
      "tensor([0.1055], device='cuda:0', grad_fn=<DivBackward0>)\n",
      "iteration 56\n",
      "area: tensor([45.5623], device='cuda:0', grad_fn=<AddBackward0>)\n",
      "tensor([0.1063], device='cuda:0', grad_fn=<DivBackward0>)\n",
      "iteration 57\n",
      "area: tensor([45.7198], device='cuda:0', grad_fn=<AddBackward0>)\n",
      "tensor([0.1070], device='cuda:0', grad_fn=<DivBackward0>)\n",
      "iteration 58\n",
      "area: tensor([45.8762], device='cuda:0', grad_fn=<AddBackward0>)\n",
      "tensor([0.1078], device='cuda:0', grad_fn=<DivBackward0>)\n",
      "iteration 59\n",
      "area: tensor([46.0316], device='cuda:0', grad_fn=<AddBackward0>)\n",
      "tensor([0.1086], device='cuda:0', grad_fn=<DivBackward0>)\n",
      "iteration 60\n",
      "area: tensor([46.1859], device='cuda:0', grad_fn=<AddBackward0>)\n",
      "tensor([0.1094], device='cuda:0', grad_fn=<DivBackward0>)\n",
      "iteration 61\n",
      "area: tensor([46.3391], device='cuda:0', grad_fn=<AddBackward0>)\n",
      "tensor([0.1102], device='cuda:0', grad_fn=<DivBackward0>)\n",
      "iteration 62\n",
      "area: tensor([46.4913], device='cuda:0', grad_fn=<AddBackward0>)\n",
      "tensor([0.1110], device='cuda:0', grad_fn=<DivBackward0>)\n",
      "iteration 63\n",
      "area: tensor([46.6423], device='cuda:0', grad_fn=<AddBackward0>)\n",
      "tensor([0.1118], device='cuda:0', grad_fn=<DivBackward0>)\n"
     ]
    },
    {
     "name": "stdout",
     "output_type": "stream",
     "text": [
      "iteration 64\n",
      "area: tensor([46.7923], device='cuda:0', grad_fn=<AddBackward0>)\n",
      "tensor([0.1126], device='cuda:0', grad_fn=<DivBackward0>)\n",
      "iteration 65\n",
      "area: tensor([46.9410], device='cuda:0', grad_fn=<AddBackward0>)\n",
      "tensor([0.1134], device='cuda:0', grad_fn=<DivBackward0>)\n",
      "iteration 66\n",
      "area: tensor([47.0887], device='cuda:0', grad_fn=<AddBackward0>)\n",
      "tensor([0.1142], device='cuda:0', grad_fn=<DivBackward0>)\n",
      "iteration 67\n",
      "area: tensor([47.2351], device='cuda:0', grad_fn=<AddBackward0>)\n",
      "tensor([0.1150], device='cuda:0', grad_fn=<DivBackward0>)\n",
      "iteration 68\n",
      "area: tensor([47.3804], device='cuda:0', grad_fn=<AddBackward0>)\n",
      "tensor([0.1158], device='cuda:0', grad_fn=<DivBackward0>)\n",
      "iteration 69\n",
      "area: tensor([47.5246], device='cuda:0', grad_fn=<AddBackward0>)\n",
      "tensor([0.1166], device='cuda:0', grad_fn=<DivBackward0>)\n",
      "iteration 70\n",
      "area: tensor([47.6674], device='cuda:0', grad_fn=<AddBackward0>)\n",
      "tensor([0.1175], device='cuda:0', grad_fn=<DivBackward0>)\n",
      "iteration 71\n",
      "area: tensor([47.8091], device='cuda:0', grad_fn=<AddBackward0>)\n",
      "tensor([0.1183], device='cuda:0', grad_fn=<DivBackward0>)\n",
      "iteration 72\n",
      "area: tensor([47.9496], device='cuda:0', grad_fn=<AddBackward0>)\n",
      "tensor([0.1192], device='cuda:0', grad_fn=<DivBackward0>)\n",
      "iteration 73\n",
      "area: tensor([48.0888], device='cuda:0', grad_fn=<AddBackward0>)\n",
      "tensor([0.1200], device='cuda:0', grad_fn=<DivBackward0>)\n",
      "iteration 74\n",
      "area: tensor([48.2268], device='cuda:0', grad_fn=<AddBackward0>)\n",
      "tensor([0.1209], device='cuda:0', grad_fn=<DivBackward0>)\n",
      "iteration 75\n",
      "area: tensor([48.3634], device='cuda:0', grad_fn=<AddBackward0>)\n",
      "tensor([0.1217], device='cuda:0', grad_fn=<DivBackward0>)\n",
      "iteration 76\n",
      "area: tensor([48.4988], device='cuda:0', grad_fn=<AddBackward0>)\n",
      "tensor([0.1226], device='cuda:0', grad_fn=<DivBackward0>)\n",
      "iteration 77\n",
      "area: tensor([48.6329], device='cuda:0', grad_fn=<AddBackward0>)\n",
      "tensor([0.1235], device='cuda:0', grad_fn=<DivBackward0>)\n",
      "iteration 78\n",
      "area: tensor([48.7656], device='cuda:0', grad_fn=<AddBackward0>)\n",
      "tensor([0.1244], device='cuda:0', grad_fn=<DivBackward0>)\n",
      "iteration 79\n",
      "area: tensor([48.8970], device='cuda:0', grad_fn=<AddBackward0>)\n",
      "tensor([0.1253], device='cuda:0', grad_fn=<DivBackward0>)\n",
      "iteration 80\n",
      "area: tensor([49.0270], device='cuda:0', grad_fn=<AddBackward0>)\n",
      "tensor([0.1262], device='cuda:0', grad_fn=<DivBackward0>)\n",
      "iteration 81\n",
      "area: tensor([49.1556], device='cuda:0', grad_fn=<AddBackward0>)\n",
      "tensor([0.1271], device='cuda:0', grad_fn=<DivBackward0>)\n",
      "iteration 82\n",
      "area: tensor([49.2828], device='cuda:0', grad_fn=<AddBackward0>)\n",
      "tensor([0.1280], device='cuda:0', grad_fn=<DivBackward0>)\n",
      "iteration 83\n",
      "area: tensor([49.4087], device='cuda:0', grad_fn=<AddBackward0>)\n",
      "tensor([0.1289], device='cuda:0', grad_fn=<DivBackward0>)\n",
      "iteration 84\n",
      "area: tensor([49.5330], device='cuda:0', grad_fn=<AddBackward0>)\n",
      "tensor([0.1298], device='cuda:0', grad_fn=<DivBackward0>)\n",
      "iteration 85\n",
      "area: tensor([49.6559], device='cuda:0', grad_fn=<AddBackward0>)\n",
      "tensor([0.1307], device='cuda:0', grad_fn=<DivBackward0>)\n",
      "iteration 86\n",
      "area: tensor([49.7772], device='cuda:0', grad_fn=<AddBackward0>)\n",
      "tensor([0.1316], device='cuda:0', grad_fn=<DivBackward0>)\n",
      "iteration 87\n",
      "area: tensor([49.8969], device='cuda:0', grad_fn=<AddBackward0>)\n",
      "tensor([0.1325], device='cuda:0', grad_fn=<DivBackward0>)\n",
      "iteration 88\n",
      "area: tensor([50.0121], device='cuda:0', grad_fn=<AddBackward0>)\n",
      "tensor([0.1327], device='cuda:0', grad_fn=<DivBackward0>)\n",
      "iteration 89\n",
      "area: tensor([50.1186], device='cuda:0', grad_fn=<AddBackward0>)\n",
      "tensor([0.1328], device='cuda:0', grad_fn=<DivBackward0>)\n",
      "iteration 90\n",
      "area: tensor([50.2175], device='cuda:0', grad_fn=<AddBackward0>)\n",
      "tensor([0.1329], device='cuda:0', grad_fn=<DivBackward0>)\n",
      "iteration 91\n",
      "area: tensor([50.3094], device='cuda:0', grad_fn=<AddBackward0>)\n",
      "tensor([0.1331], device='cuda:0', grad_fn=<DivBackward0>)\n",
      "iteration 92\n",
      "area: tensor([50.3951], device='cuda:0', grad_fn=<AddBackward0>)\n",
      "tensor([0.1333], device='cuda:0', grad_fn=<DivBackward0>)\n",
      "iteration 93\n",
      "area: tensor([50.4751], device='cuda:0', grad_fn=<AddBackward0>)\n",
      "tensor([0.1335], device='cuda:0', grad_fn=<DivBackward0>)\n",
      "iteration 94\n",
      "area: tensor([50.5500], device='cuda:0', grad_fn=<AddBackward0>)\n",
      "tensor([0.1337], device='cuda:0', grad_fn=<DivBackward0>)\n",
      "iteration 95\n",
      "area: tensor([50.6203], device='cuda:0', grad_fn=<AddBackward0>)\n",
      "tensor([0.1340], device='cuda:0', grad_fn=<DivBackward0>)\n",
      "iteration 96\n",
      "area: tensor([50.6865], device='cuda:0', grad_fn=<AddBackward0>)\n",
      "tensor([0.1342], device='cuda:0', grad_fn=<DivBackward0>)\n",
      "iteration 97\n",
      "area: tensor([50.7489], device='cuda:0', grad_fn=<AddBackward0>)\n",
      "tensor([0.1344], device='cuda:0', grad_fn=<DivBackward0>)\n",
      "iteration 98\n",
      "area: tensor([50.8080], device='cuda:0', grad_fn=<AddBackward0>)\n",
      "tensor([0.1347], device='cuda:0', grad_fn=<DivBackward0>)\n",
      "iteration 99\n",
      "area: tensor([50.8641], device='cuda:0', grad_fn=<AddBackward0>)\n",
      "tensor([0.1349], device='cuda:0', grad_fn=<DivBackward0>)\n"
     ]
    },
    {
     "data": {
      "image/png": "[encoded data removed]",
      "text/plain": [
       "<Figure size 432x288 with 1 Axes>"
      ]
     },
     "metadata": {
      "needs_background": "light"
     },
     "output_type": "display_data"
    }
   ],
   "source": [
    "optimize(100)"
   ]
  },
  {
   "cell_type": "code",
   "execution_count": 651,
   "metadata": {},
   "outputs": [
    {
     "data": {
      "text/plain": [
       "tensor([[23.3917, 23.3917],\n",
       "        [23.4058, 28.3721],\n",
       "        [37.0502, 28.8679],\n",
       "        [46.7306, 30.0873],\n",
       "        [46.6648, 46.6648],\n",
       "        [30.0873, 46.7306],\n",
       "        [28.8679, 37.0502],\n",
       "        [28.3721, 23.4058]], device='cuda:0', grad_fn=<MulBackward0>)"
      ]
     },
     "execution_count": 651,
     "metadata": {},
     "output_type": "execute_result"
    }
   ],
   "source": [
    "cell*4"
   ]
  },
  {
   "cell_type": "code",
   "execution_count": null,
   "metadata": {},
   "outputs": [],
   "source": []
  }
 ],
 "metadata": {
  "kernelspec": {
   "display_name": "Python 3",
   "language": "python",
   "name": "python3"
  },
  "language_info": {
   "codemirror_mode": {
    "name": "ipython",
    "version": 3
   },
   "file_extension": ".py",
   "mimetype": "text/x-python",
   "name": "python",
   "nbconvert_exporter": "python",
   "pygments_lexer": "ipython3",
   "version": "3.7.4"
  }
 },
 "nbformat": 4,
 "nbformat_minor": 4
}
